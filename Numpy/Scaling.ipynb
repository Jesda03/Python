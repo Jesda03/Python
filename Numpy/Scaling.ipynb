{
 "nbformat": 4,
 "nbformat_minor": 2,
 "metadata": {
  "language_info": {
   "name": "python",
   "codemirror_mode": {
    "name": "ipython",
    "version": 3
   },
   "version": "3.7.6-final"
  },
  "orig_nbformat": 2,
  "file_extension": ".py",
  "mimetype": "text/x-python",
  "name": "python",
  "npconvert_exporter": "python",
  "pygments_lexer": "ipython3",
  "version": 3,
  "kernelspec": {
   "name": "python38232bitebd68539b0244abaab96f892cea251e1",
   "display_name": "Python 3.8.2 32-bit"
  }
 },
 "cells": [
  {
   "cell_type": "code",
   "execution_count": 2,
   "metadata": {},
   "outputs": [],
   "source": [
    "%matplotlib inline\n",
    "import numpy as np\n",
    "import pandas as pd\n",
    "import matplotlib.pyplot as pyplot"
   ]
  },
  {
   "cell_type": "code",
   "execution_count": 3,
   "metadata": {},
   "outputs": [],
   "source": [
    "from sklearn.model_selection import train_test_split\n",
    "\n",
    "x = pd.read_csv('vol/intermediate_result/x.csv')\n",
    "y = x['worldwide_gross']\n",
    "x = x.drop('worldwide_gross',axis=1)\n",
    "x_train, x_test, y_train, y_test = train_test_split(x,y)\n",
    ""
   ]
  },
  {
   "cell_type": "code",
   "execution_count": 4,
   "metadata": {},
   "outputs": [
    {
     "output_type": "execute_result",
     "data": {
      "text/plain": "StandardScaler(copy=True, with_mean=True, with_std=True)"
     },
     "metadata": {},
     "execution_count": 4
    }
   ],
   "source": [
    "from sklearn.preprocessing import StandardScaler\n",
    "\n",
    "scaler = StandardScaler()\n",
    "scaler.fit(x_train)"
   ]
  },
  {
   "cell_type": "code",
   "execution_count": 5,
   "metadata": {},
   "outputs": [
    {
     "output_type": "execute_result",
     "data": {
      "text/plain": "array([3.30057883e+07, 2.00211374e+03, 2.12580834e+00, 1.08650573e+02,\n       4.03947428e+07, 6.46611436e+00, 4.74184257e+07])"
     },
     "metadata": {},
     "execution_count": 5
    }
   ],
   "source": [
    "scaler.mean_"
   ]
  },
  {
   "cell_type": "code",
   "execution_count": 6,
   "metadata": {},
   "outputs": [
    {
     "output_type": "execute_result",
     "data": {
      "text/plain": "array([[-0.67648015, -2.42680087,  0.31245916, ..., -0.15293064,\n         1.06714314,  0.01443147],\n       [ 0.66389838, -0.4262602 ,  0.31245916, ...,  0.15166193,\n        -0.15633658,  0.00528916],\n       [ 3.61519056,  0.49065427,  0.31245916, ...,  0.61183777,\n         1.82005373,  2.82553517],\n       ...,\n       [-0.61499489,  0.32394255,  0.31245916, ..., -0.14197407,\n         0.50246019,  0.01443147],\n       [-0.61499489,  0.99078944,  0.31245916, ..., -0.14197407,\n        -0.34456423, -0.34231168],\n       [-0.80068036,  0.32394255, -0.38439807, ..., -0.17484378,\n        -0.2504504 , -0.75921883]])"
     },
     "metadata": {},
     "execution_count": 6
    }
   ],
   "source": [
    "scaler.transform(x_train)"
   ]
  },
  {
   "cell_type": "code",
   "execution_count": 7,
   "metadata": {},
   "outputs": [],
   "source": [
    "x_train_scaled, x_test_scaled = (scaler.transform(x_train),scaler.transform(x_test))"
   ]
  },
  {
   "cell_type": "code",
   "execution_count": 8,
   "metadata": {},
   "outputs": [
    {
     "output_type": "execute_result",
     "data": {
      "text/plain": "Lasso(alpha=1.0, copy_X=True, fit_intercept=True, max_iter=1000,\n      normalize=False, positive=False, precompute=False, random_state=None,\n      selection='cyclic', tol=0.0001, warm_start=False)"
     },
     "metadata": {},
     "execution_count": 8
    }
   ],
   "source": [
    "from sklearn.linear_model import Lasso\n",
    "\n",
    "model = Lasso()\n",
    "model_scaled = Lasso()\n",
    "\n",
    "model.fit(x_train,y_train)\n",
    "model_scaled.fit(x_train_scaled,y_train)"
   ]
  },
  {
   "cell_type": "code",
   "execution_count": 9,
   "metadata": {},
   "outputs": [
    {
     "output_type": "stream",
     "name": "stdout",
     "text": "0.8371017974170494\n0.8371017985597671\n"
    }
   ],
   "source": [
    "print(model.score(x_test,y_test))\n",
    "print(model_scaled.score(x_test_scaled,y_test))"
   ]
  },
  {
   "cell_type": "markdown",
   "metadata": {},
   "source": [
    "# Pipelines"
   ]
  },
  {
   "cell_type": "code",
   "execution_count": 10,
   "metadata": {},
   "outputs": [
    {
     "output_type": "execute_result",
     "data": {
      "text/plain": "Pipeline(memory=None,\n         steps=[('standardscaler',\n                 StandardScaler(copy=True, with_mean=True, with_std=True)),\n                ('lasso',\n                 Lasso(alpha=1.0, copy_X=True, fit_intercept=True,\n                       max_iter=1000, normalize=False, positive=False,\n                       precompute=False, random_state=None, selection='cyclic',\n                       tol=0.0001, warm_start=False))],\n         verbose=False)"
     },
     "metadata": {},
     "execution_count": 10
    }
   ],
   "source": [
    "from sklearn.pipeline import make_pipeline\n",
    "model_scaled = make_pipeline(StandardScaler(),Lasso())\n",
    "\n",
    "model_scaled.fit(x_train, y_train)"
   ]
  },
  {
   "cell_type": "code",
   "execution_count": 11,
   "metadata": {},
   "outputs": [
    {
     "output_type": "stream",
     "name": "stdout",
     "text": "0.8371017985597671\n"
    }
   ],
   "source": [
    "print(model_scaled.score(x_test,y_test))"
   ]
  },
  {
   "cell_type": "markdown",
   "metadata": {},
   "source": [
    "# Features automaticamente"
   ]
  },
  {
   "cell_type": "code",
   "execution_count": 12,
   "metadata": {},
   "outputs": [
    {
     "output_type": "execute_result",
     "data": {
      "text/plain": "array([[0, 1],\n       [2, 3],\n       [4, 5]])"
     },
     "metadata": {},
     "execution_count": 12
    }
   ],
   "source": [
    "A = np.arange(6).reshape(3,2)\n",
    "A"
   ]
  },
  {
   "cell_type": "code",
   "execution_count": 13,
   "metadata": {},
   "outputs": [
    {
     "output_type": "execute_result",
     "data": {
      "text/plain": "array([[ 1.,  0.,  1.,  0.,  0.,  1.],\n       [ 1.,  2.,  3.,  4.,  6.,  9.],\n       [ 1.,  4.,  5., 16., 20., 25.]])"
     },
     "metadata": {},
     "execution_count": 13
    }
   ],
   "source": [
    "from sklearn.preprocessing import PolynomialFeatures\n",
    "\n",
    "transformer = PolynomialFeatures(2)\n",
    "transformer.fit(A)\n",
    "transformer.transform(A)\n",
    ""
   ]
  },
  {
   "cell_type": "code",
   "execution_count": 14,
   "metadata": {},
   "outputs": [
    {
     "output_type": "execute_result",
     "data": {
      "text/plain": "(4104, 7)"
     },
     "metadata": {},
     "execution_count": 14
    }
   ],
   "source": [
    "x.shape"
   ]
  },
  {
   "cell_type": "code",
   "execution_count": 15,
   "metadata": {},
   "outputs": [
    {
     "output_type": "execute_result",
     "data": {
      "text/plain": "(4104, 36)"
     },
     "metadata": {},
     "execution_count": 15
    }
   ],
   "source": [
    "transformer = PolynomialFeatures(2)\n",
    "transformer.fit_transform(x).shape"
   ]
  },
  {
   "cell_type": "code",
   "execution_count": 16,
   "metadata": {},
   "outputs": [
    {
     "output_type": "execute_result",
     "data": {
      "text/plain": "0.8853928390720787"
     },
     "metadata": {},
     "execution_count": 16
    }
   ],
   "source": [
    "model_poly = make_pipeline(PolynomialFeatures(2), Lasso())\n",
    "\n",
    "model_poly.fit(x_train, y_train)\n",
    "model_poly.score(x_test, y_test)"
   ]
  },
  {
   "cell_type": "code",
   "execution_count": 17,
   "metadata": {},
   "outputs": [
    {
     "output_type": "execute_result",
     "data": {
      "text/plain": "(4104, 7)"
     },
     "metadata": {},
     "execution_count": 17
    }
   ],
   "source": [
    "x.shape"
   ]
  },
  {
   "cell_type": "code",
   "execution_count": 18,
   "metadata": {},
   "outputs": [
    {
     "output_type": "execute_result",
     "data": {
      "text/plain": "(4104, 36)"
     },
     "metadata": {},
     "execution_count": 18
    }
   ],
   "source": [
    "transformer = PolynomialFeatures(2)\n",
    "transformer.fit_transform(x).shape"
   ]
  },
  {
   "cell_type": "code",
   "execution_count": 19,
   "metadata": {},
   "outputs": [
    {
     "output_type": "execute_result",
     "data": {
      "text/plain": "0.8853928390720787"
     },
     "metadata": {},
     "execution_count": 19
    }
   ],
   "source": [
    "model_poly = make_pipeline(PolynomialFeatures(2), Lasso())\n",
    "\n",
    "model_poly.fit(x_train, y_train)\n",
    "model_poly.score(x_test, y_test)"
   ]
  },
  {
   "cell_type": "code",
   "execution_count": 22,
   "metadata": {},
   "outputs": [
    {
     "output_type": "execute_result",
     "data": {
      "text/plain": "        pais  genero\n0      Chile  hombre\n1   Colombia   mujer\n2  Venezuela  hombre\n3       None   mujer",
      "text/html": "<div>\n<style scoped>\n    .dataframe tbody tr th:only-of-type {\n        vertical-align: middle;\n    }\n\n    .dataframe tbody tr th {\n        vertical-align: top;\n    }\n\n    .dataframe thead th {\n        text-align: right;\n    }\n</style>\n<table border=\"1\" class=\"dataframe\">\n  <thead>\n    <tr style=\"text-align: right;\">\n      <th></th>\n      <th>pais</th>\n      <th>genero</th>\n    </tr>\n  </thead>\n  <tbody>\n    <tr>\n      <th>0</th>\n      <td>Chile</td>\n      <td>hombre</td>\n    </tr>\n    <tr>\n      <th>1</th>\n      <td>Colombia</td>\n      <td>mujer</td>\n    </tr>\n    <tr>\n      <th>2</th>\n      <td>Venezuela</td>\n      <td>hombre</td>\n    </tr>\n    <tr>\n      <th>3</th>\n      <td>None</td>\n      <td>mujer</td>\n    </tr>\n  </tbody>\n</table>\n</div>"
     },
     "metadata": {},
     "execution_count": 22
    }
   ],
   "source": [
    "d = pd.DataFrame([['Chile','Colombia', 'Venezuela'],['hombre','mujer','hombre','mujer']])\n",
    "d = d.T\n",
    "d.columns = pd.Index(['pais','genero'])\n",
    "d"
   ]
  },
  {
   "cell_type": "code",
   "execution_count": 23,
   "metadata": {},
   "outputs": [
    {
     "output_type": "execute_result",
     "data": {
      "text/plain": "   pais_Chile  pais_Colombia  pais_Venezuela  genero_hombre  genero_mujer\n0           1              0               0              1             0\n1           0              1               0              0             1\n2           0              0               1              1             0\n3           0              0               0              0             1",
      "text/html": "<div>\n<style scoped>\n    .dataframe tbody tr th:only-of-type {\n        vertical-align: middle;\n    }\n\n    .dataframe tbody tr th {\n        vertical-align: top;\n    }\n\n    .dataframe thead th {\n        text-align: right;\n    }\n</style>\n<table border=\"1\" class=\"dataframe\">\n  <thead>\n    <tr style=\"text-align: right;\">\n      <th></th>\n      <th>pais_Chile</th>\n      <th>pais_Colombia</th>\n      <th>pais_Venezuela</th>\n      <th>genero_hombre</th>\n      <th>genero_mujer</th>\n    </tr>\n  </thead>\n  <tbody>\n    <tr>\n      <th>0</th>\n      <td>1</td>\n      <td>0</td>\n      <td>0</td>\n      <td>1</td>\n      <td>0</td>\n    </tr>\n    <tr>\n      <th>1</th>\n      <td>0</td>\n      <td>1</td>\n      <td>0</td>\n      <td>0</td>\n      <td>1</td>\n    </tr>\n    <tr>\n      <th>2</th>\n      <td>0</td>\n      <td>0</td>\n      <td>1</td>\n      <td>1</td>\n      <td>0</td>\n    </tr>\n    <tr>\n      <th>3</th>\n      <td>0</td>\n      <td>0</td>\n      <td>0</td>\n      <td>0</td>\n      <td>1</td>\n    </tr>\n  </tbody>\n</table>\n</div>"
     },
     "metadata": {},
     "execution_count": 23
    }
   ],
   "source": [
    "pd.get_dummies(d)"
   ]
  },
  {
   "cell_type": "code",
   "execution_count": 24,
   "metadata": {},
   "outputs": [],
   "source": [
    "movies_obj = pd.read_csv('vol/intermediate_result/movies_obj.csv')"
   ]
  },
  {
   "cell_type": "code",
   "execution_count": 27,
   "metadata": {},
   "outputs": [
    {
     "output_type": "execute_result",
     "data": {
      "text/plain": "color                2\ncontent_rating      18\nlanguage            47\ncountry             65\ngenres             914\nactor_1_name      2097\ndirector_name     2398\nactor_2_name      3032\nactor_3_name      3521\nplot_keywords     4760\nmovie_title       4917\ndtype: int64"
     },
     "metadata": {},
     "execution_count": 27
    }
   ],
   "source": [
    "movies_obj.apply(pd.Series.nunique).sort_values()"
   ]
  },
  {
   "cell_type": "code",
   "execution_count": 29,
   "metadata": {},
   "outputs": [
    {
     "output_type": "stream",
     "name": "stdout",
     "text": "Collecting category_encoders\n  Downloading https://files.pythonhosted.org/packages/a0/52/c54191ad3782de633ea3d6ee3bb2837bda0cf3bc97644bb6375cf14150a0/category_encoders-2.1.0-py2.py3-none-any.whl (100kB)\nRequirement already satisfied: scipy>=0.19.0 in c:\\users\\daromero\\appdata\\local\\programs\\python\\python38-32\\lib\\site-packages (from category_encoders) (1.4.1)\nWARNING: You are using pip version 19.2.3, however version 20.0.2 is available.\nYou should consider upgrading via the 'python -m pip install --upgrade pip' command.\nRequirement already satisfied: numpy>=1.11.3 in c:\\users\\daromero\\appdata\\local\\programs\\python\\python38-32\\lib\\site-packages (from category_encoders) (1.18.2)\nRequirement already satisfied: scikit-learn>=0.20.0 in c:\\users\\daromero\\appdata\\local\\programs\\python\\python38-32\\lib\\site-packages (from category_encoders) (0.22.2.post1)\nCollecting statsmodels>=0.6.1 (from category_encoders)\n  Downloading https://files.pythonhosted.org/packages/21/8e/198d8d276cf8ab753679ab3db558675355e0dd286b8243f1c8a67d4f99db/statsmodels-0.11.1-cp38-none-win32.whl (7.8MB)\nCollecting patsy>=0.4.1 (from category_encoders)\n  Downloading https://files.pythonhosted.org/packages/ea/0c/5f61f1a3d4385d6bf83b83ea495068857ff8dfb89e74824c6e9eb63286d8/patsy-0.5.1-py2.py3-none-any.whl (231kB)\nRequirement already satisfied: pandas>=0.21.1 in c:\\users\\daromero\\appdata\\local\\programs\\python\\python38-32\\lib\\site-packages (from category_encoders) (1.0.3)\nRequirement already satisfied: joblib>=0.11 in c:\\users\\daromero\\appdata\\local\\programs\\python\\python38-32\\lib\\site-packages (from scikit-learn>=0.20.0->category_encoders) (0.14.1)\nRequirement already satisfied: six in c:\\users\\daromero\\appdata\\roaming\\python\\python38\\site-packages (from patsy>=0.4.1->category_encoders) (1.14.0)\nRequirement already satisfied: pytz>=2017.2 in c:\\users\\daromero\\appdata\\local\\programs\\python\\python38-32\\lib\\site-packages (from pandas>=0.21.1->category_encoders) (2019.3)\nRequirement already satisfied: python-dateutil>=2.6.1 in c:\\users\\daromero\\appdata\\roaming\\python\\python38\\site-packages (from pandas>=0.21.1->category_encoders) (2.8.1)\nInstalling collected packages: patsy, statsmodels, category-encoders\nSuccessfully installed category-encoders-2.1.0 patsy-0.5.1 statsmodels-0.11.1\n"
    }
   ],
   "source": [
    "!pip install category_encoders"
   ]
  },
  {
   "cell_type": "code",
   "execution_count": 30,
   "metadata": {},
   "outputs": [],
   "source": [
    "categoricals = pd.read_csv('vol/intermediate_result/categoricals.csv').set_index('Unnamed: 0')"
   ]
  },
  {
   "cell_type": "code",
   "execution_count": 31,
   "metadata": {},
   "outputs": [
    {
     "output_type": "execute_result",
     "data": {
      "text/plain": "           actor_1_name  director_name\nUnnamed: 0                            \n0           CCH Pounder  James Cameron\n1           Doug Walker    Doug Walker",
      "text/html": "<div>\n<style scoped>\n    .dataframe tbody tr th:only-of-type {\n        vertical-align: middle;\n    }\n\n    .dataframe tbody tr th {\n        vertical-align: top;\n    }\n\n    .dataframe thead th {\n        text-align: right;\n    }\n</style>\n<table border=\"1\" class=\"dataframe\">\n  <thead>\n    <tr style=\"text-align: right;\">\n      <th></th>\n      <th>actor_1_name</th>\n      <th>director_name</th>\n    </tr>\n    <tr>\n      <th>Unnamed: 0</th>\n      <th></th>\n      <th></th>\n    </tr>\n  </thead>\n  <tbody>\n    <tr>\n      <th>0</th>\n      <td>CCH Pounder</td>\n      <td>James Cameron</td>\n    </tr>\n    <tr>\n      <th>1</th>\n      <td>Doug Walker</td>\n      <td>Doug Walker</td>\n    </tr>\n  </tbody>\n</table>\n</div>"
     },
     "metadata": {},
     "execution_count": 31
    }
   ],
   "source": [
    "categoricals.head(2)"
   ]
  },
  {
   "cell_type": "code",
   "execution_count": 33,
   "metadata": {},
   "outputs": [],
   "source": [
    "categoricals = categoricals.reset_index(drop=True).fillna(0)"
   ]
  },
  {
   "cell_type": "code",
   "execution_count": 44,
   "metadata": {},
   "outputs": [],
   "source": [
    "x_binenc = pd.concat([x,categoricals],axis=1)"
   ]
  },
  {
   "cell_type": "code",
   "execution_count": 45,
   "metadata": {},
   "outputs": [
    {
     "output_type": "execute_result",
     "data": {
      "text/plain": "      production_budget   title_year  aspect_ratio  duration.1        budget  \\\n0           425000000.0  2009.000000      1.780000  178.000000  2.370000e+08   \n1           306000000.0  2002.130733      2.126976  108.577186  4.045539e+07   \n2           300000000.0  2007.000000      2.350000  169.000000  3.000000e+08   \n3           300000000.0  2015.000000      2.350000  148.000000  2.450000e+08   \n4           275000000.0  2012.000000      2.350000  164.000000  2.500000e+08   \n...                 ...          ...           ...         ...           ...   \n4099             7000.0  2004.000000      1.850000   77.000000  7.000000e+03   \n4100             7000.0  2005.000000      2.126976   80.000000  7.000000e+03   \n4101             7000.0  2005.000000      2.126976   84.000000  3.250000e+03   \n4102             3967.0  2012.000000      2.350000  100.000000  4.045539e+07   \n4103             1100.0  2004.000000      1.850000   90.000000  1.100000e+03   \n\n      imdb_score         gross     actor_1_name      director_name  \n0            7.9  7.605058e+08      CCH Pounder      James Cameron  \n1            7.1  4.831933e+07      Doug Walker        Doug Walker  \n2            7.1  3.094042e+08      Johnny Depp     Gore Verbinski  \n3            6.8  2.000742e+08  Christoph Waltz         Sam Mendes  \n4            8.5  4.481306e+08        Tom Hardy  Christopher Nolan  \n...          ...           ...              ...                ...  \n4099         7.0  4.247600e+05    Shane Carruth      Shane Carruth  \n4100         6.3  7.007100e+04      Ian Gamazon   Neill Dela Llana  \n4101         7.8  4.831933e+07   Richard Jewell    Anthony Vallone  \n4102         6.3  1.044300e+04        Alan Ruck        Daniel Hsia  \n4103         6.6  8.522200e+04      John August           Jon Gunn  \n\n[4104 rows x 9 columns]",
      "text/html": "<div>\n<style scoped>\n    .dataframe tbody tr th:only-of-type {\n        vertical-align: middle;\n    }\n\n    .dataframe tbody tr th {\n        vertical-align: top;\n    }\n\n    .dataframe thead th {\n        text-align: right;\n    }\n</style>\n<table border=\"1\" class=\"dataframe\">\n  <thead>\n    <tr style=\"text-align: right;\">\n      <th></th>\n      <th>production_budget</th>\n      <th>title_year</th>\n      <th>aspect_ratio</th>\n      <th>duration.1</th>\n      <th>budget</th>\n      <th>imdb_score</th>\n      <th>gross</th>\n      <th>actor_1_name</th>\n      <th>director_name</th>\n    </tr>\n  </thead>\n  <tbody>\n    <tr>\n      <th>0</th>\n      <td>425000000.0</td>\n      <td>2009.000000</td>\n      <td>1.780000</td>\n      <td>178.000000</td>\n      <td>2.370000e+08</td>\n      <td>7.9</td>\n      <td>7.605058e+08</td>\n      <td>CCH Pounder</td>\n      <td>James Cameron</td>\n    </tr>\n    <tr>\n      <th>1</th>\n      <td>306000000.0</td>\n      <td>2002.130733</td>\n      <td>2.126976</td>\n      <td>108.577186</td>\n      <td>4.045539e+07</td>\n      <td>7.1</td>\n      <td>4.831933e+07</td>\n      <td>Doug Walker</td>\n      <td>Doug Walker</td>\n    </tr>\n    <tr>\n      <th>2</th>\n      <td>300000000.0</td>\n      <td>2007.000000</td>\n      <td>2.350000</td>\n      <td>169.000000</td>\n      <td>3.000000e+08</td>\n      <td>7.1</td>\n      <td>3.094042e+08</td>\n      <td>Johnny Depp</td>\n      <td>Gore Verbinski</td>\n    </tr>\n    <tr>\n      <th>3</th>\n      <td>300000000.0</td>\n      <td>2015.000000</td>\n      <td>2.350000</td>\n      <td>148.000000</td>\n      <td>2.450000e+08</td>\n      <td>6.8</td>\n      <td>2.000742e+08</td>\n      <td>Christoph Waltz</td>\n      <td>Sam Mendes</td>\n    </tr>\n    <tr>\n      <th>4</th>\n      <td>275000000.0</td>\n      <td>2012.000000</td>\n      <td>2.350000</td>\n      <td>164.000000</td>\n      <td>2.500000e+08</td>\n      <td>8.5</td>\n      <td>4.481306e+08</td>\n      <td>Tom Hardy</td>\n      <td>Christopher Nolan</td>\n    </tr>\n    <tr>\n      <th>...</th>\n      <td>...</td>\n      <td>...</td>\n      <td>...</td>\n      <td>...</td>\n      <td>...</td>\n      <td>...</td>\n      <td>...</td>\n      <td>...</td>\n      <td>...</td>\n    </tr>\n    <tr>\n      <th>4099</th>\n      <td>7000.0</td>\n      <td>2004.000000</td>\n      <td>1.850000</td>\n      <td>77.000000</td>\n      <td>7.000000e+03</td>\n      <td>7.0</td>\n      <td>4.247600e+05</td>\n      <td>Shane Carruth</td>\n      <td>Shane Carruth</td>\n    </tr>\n    <tr>\n      <th>4100</th>\n      <td>7000.0</td>\n      <td>2005.000000</td>\n      <td>2.126976</td>\n      <td>80.000000</td>\n      <td>7.000000e+03</td>\n      <td>6.3</td>\n      <td>7.007100e+04</td>\n      <td>Ian Gamazon</td>\n      <td>Neill Dela Llana</td>\n    </tr>\n    <tr>\n      <th>4101</th>\n      <td>7000.0</td>\n      <td>2005.000000</td>\n      <td>2.126976</td>\n      <td>84.000000</td>\n      <td>3.250000e+03</td>\n      <td>7.8</td>\n      <td>4.831933e+07</td>\n      <td>Richard Jewell</td>\n      <td>Anthony Vallone</td>\n    </tr>\n    <tr>\n      <th>4102</th>\n      <td>3967.0</td>\n      <td>2012.000000</td>\n      <td>2.350000</td>\n      <td>100.000000</td>\n      <td>4.045539e+07</td>\n      <td>6.3</td>\n      <td>1.044300e+04</td>\n      <td>Alan Ruck</td>\n      <td>Daniel Hsia</td>\n    </tr>\n    <tr>\n      <th>4103</th>\n      <td>1100.0</td>\n      <td>2004.000000</td>\n      <td>1.850000</td>\n      <td>90.000000</td>\n      <td>1.100000e+03</td>\n      <td>6.6</td>\n      <td>8.522200e+04</td>\n      <td>John August</td>\n      <td>Jon Gunn</td>\n    </tr>\n  </tbody>\n</table>\n<p>4104 rows × 9 columns</p>\n</div>"
     },
     "metadata": {},
     "execution_count": 45
    }
   ],
   "source": [
    "x_binenc"
   ]
  },
  {
   "cell_type": "code",
   "execution_count": 36,
   "metadata": {},
   "outputs": [],
   "source": [
    "import category_encoders as ce\n",
    "encoder = ce.BinaryEncoder(cols=['actor_1_name','director_name'])"
   ]
  },
  {
   "cell_type": "code",
   "execution_count": 47,
   "metadata": {},
   "outputs": [],
   "source": [
    " x_binenc = encoder.fit_transform(x_binenc)"
   ]
  },
  {
   "cell_type": "code",
   "execution_count": 48,
   "metadata": {},
   "outputs": [],
   "source": [
    "xb_train, xb_test, y_train, y_test = train_test_split(x_binenc,y)"
   ]
  },
  {
   "cell_type": "code",
   "execution_count": 49,
   "metadata": {},
   "outputs": [],
   "source": [
    "x_train, x_test =(xb_train[x.columns],xb_test[x.columns])"
   ]
  },
  {
   "cell_type": "code",
   "execution_count": 50,
   "metadata": {},
   "outputs": [],
   "source": [
    "model_binenc = Lasso()\n",
    "model = Lasso()"
   ]
  },
  {
   "cell_type": "code",
   "execution_count": 51,
   "metadata": {},
   "outputs": [
    {
     "output_type": "execute_result",
     "data": {
      "text/plain": "Lasso(alpha=1.0, copy_X=True, fit_intercept=True, max_iter=1000,\n      normalize=False, positive=False, precompute=False, random_state=None,\n      selection='cyclic', tol=0.0001, warm_start=False)"
     },
     "metadata": {},
     "execution_count": 51
    }
   ],
   "source": [
    "model_binenc.fit(xb_train,y_train)\n",
    "model.fit(x_train,y_train)"
   ]
  },
  {
   "cell_type": "code",
   "execution_count": 52,
   "metadata": {},
   "outputs": [
    {
     "output_type": "stream",
     "name": "stdout",
     "text": "0.8538586709161654\n0.8544291594357292\n"
    }
   ],
   "source": [
    "print(model_binenc.score(xb_test,y_test))\n",
    "print(model.score(x_test,y_test))"
   ]
  },
  {
   "cell_type": "markdown",
   "metadata": {},
   "source": [
    "# Conocimiento experto"
   ]
  },
  {
   "cell_type": "code",
   "execution_count": null,
   "metadata": {},
   "outputs": [],
   "source": []
  }
 ]
}