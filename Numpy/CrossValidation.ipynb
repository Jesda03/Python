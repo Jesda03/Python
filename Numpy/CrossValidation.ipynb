{
 "nbformat": 4,
 "nbformat_minor": 2,
 "metadata": {
  "language_info": {
   "name": "python",
   "codemirror_mode": {
    "name": "ipython",
    "version": 3
   },
   "version": "3.7.6-final"
  },
  "orig_nbformat": 2,
  "file_extension": ".py",
  "mimetype": "text/x-python",
  "name": "python",
  "npconvert_exporter": "python",
  "pygments_lexer": "ipython3",
  "version": 3,
  "kernelspec": {
   "name": "python38232bitebd68539b0244abaab96f892cea251e1",
   "display_name": "Python 3.8.2 32-bit"
  }
 },
 "cells": [
  {
   "cell_type": "code",
   "execution_count": 1,
   "metadata": {},
   "outputs": [],
   "source": [
    "%matplotlib inline\n",
    "import numpy as np\n",
    "import pandas as pd\n",
    "import matplotlib.pyplot as pyplot"
   ]
  },
  {
   "cell_type": "code",
   "execution_count": 2,
   "metadata": {},
   "outputs": [],
   "source": [
    "x = pd.read_csv('vol/intermediate_result/X_opening.csv')\n",
    "y = x['worldwide_gross']\n",
    "x = x.drop('worldwide_gross',axis=1)"
   ]
  },
  {
   "cell_type": "code",
   "execution_count": 17,
   "metadata": {},
   "outputs": [
    {
     "output_type": "execute_result",
     "data": {
      "text/plain": "2221"
     },
     "metadata": {},
     "execution_count": 17
    }
   ],
   "source": [
    "len(x)"
   ]
  },
  {
   "cell_type": "code",
   "execution_count": 7,
   "metadata": {},
   "outputs": [],
   "source": [
    "from sklearn.model_selection import train_test_split\n",
    "\n",
    "x_train, x_test, y_train, y_test = train_test_split(x,y,random_state=1)"
   ]
  },
  {
   "cell_type": "code",
   "execution_count": 10,
   "metadata": {},
   "outputs": [],
   "source": [
    "x2_train, x2_test, y2_train, y2_test = train_test_split(x,y,random_state=1)"
   ]
  },
  {
   "cell_type": "code",
   "execution_count": 11,
   "metadata": {},
   "outputs": [
    {
     "output_type": "execute_result",
     "data": {
      "text/plain": "True"
     },
     "metadata": {},
     "execution_count": 11
    }
   ],
   "source": [
    "pd.DataFrame.equals(x_train,x2_train)"
   ]
  },
  {
   "cell_type": "code",
   "execution_count": 8,
   "metadata": {},
   "outputs": [
    {
     "output_type": "execute_result",
     "data": {
      "text/plain": "      production_budget  title_year  aspect_ratio  duration.1  \\\n1724         20000000.0      2004.0          1.85        99.0   \n2027         14000000.0      1998.0          2.35        99.0   \n1843         18000000.0      2008.0          2.35        98.0   \n470          72000000.0      2001.0          2.35       116.0   \n1225         31000000.0      2012.0          2.35       138.0   \n\n      cast_total_facebook_likes      budget  imdb_score  opening_gross  \\\n1724                     1189.0  40000000.0         4.8      6160886.0   \n2027                     3500.0  14000000.0         5.5     10515444.0   \n1843                     2215.0  18000000.0         5.1       300000.0   \n470                     14780.0  72000000.0         4.5     12174504.0   \n1225                    20952.0  31000000.0         7.3     24900566.0   \n\n      screens  \n1724   2445.0  \n2027   2257.0  \n1843    482.0  \n470    2905.0  \n1225   1884.0  ",
      "text/html": "<div>\n<style scoped>\n    .dataframe tbody tr th:only-of-type {\n        vertical-align: middle;\n    }\n\n    .dataframe tbody tr th {\n        vertical-align: top;\n    }\n\n    .dataframe thead th {\n        text-align: right;\n    }\n</style>\n<table border=\"1\" class=\"dataframe\">\n  <thead>\n    <tr style=\"text-align: right;\">\n      <th></th>\n      <th>production_budget</th>\n      <th>title_year</th>\n      <th>aspect_ratio</th>\n      <th>duration.1</th>\n      <th>cast_total_facebook_likes</th>\n      <th>budget</th>\n      <th>imdb_score</th>\n      <th>opening_gross</th>\n      <th>screens</th>\n    </tr>\n  </thead>\n  <tbody>\n    <tr>\n      <th>1724</th>\n      <td>20000000.0</td>\n      <td>2004.0</td>\n      <td>1.85</td>\n      <td>99.0</td>\n      <td>1189.0</td>\n      <td>40000000.0</td>\n      <td>4.8</td>\n      <td>6160886.0</td>\n      <td>2445.0</td>\n    </tr>\n    <tr>\n      <th>2027</th>\n      <td>14000000.0</td>\n      <td>1998.0</td>\n      <td>2.35</td>\n      <td>99.0</td>\n      <td>3500.0</td>\n      <td>14000000.0</td>\n      <td>5.5</td>\n      <td>10515444.0</td>\n      <td>2257.0</td>\n    </tr>\n    <tr>\n      <th>1843</th>\n      <td>18000000.0</td>\n      <td>2008.0</td>\n      <td>2.35</td>\n      <td>98.0</td>\n      <td>2215.0</td>\n      <td>18000000.0</td>\n      <td>5.1</td>\n      <td>300000.0</td>\n      <td>482.0</td>\n    </tr>\n    <tr>\n      <th>470</th>\n      <td>72000000.0</td>\n      <td>2001.0</td>\n      <td>2.35</td>\n      <td>116.0</td>\n      <td>14780.0</td>\n      <td>72000000.0</td>\n      <td>4.5</td>\n      <td>12174504.0</td>\n      <td>2905.0</td>\n    </tr>\n    <tr>\n      <th>1225</th>\n      <td>31000000.0</td>\n      <td>2012.0</td>\n      <td>2.35</td>\n      <td>138.0</td>\n      <td>20952.0</td>\n      <td>31000000.0</td>\n      <td>7.3</td>\n      <td>24900566.0</td>\n      <td>1884.0</td>\n    </tr>\n  </tbody>\n</table>\n</div>"
     },
     "metadata": {},
     "execution_count": 8
    }
   ],
   "source": [
    "x_train.head()"
   ]
  },
  {
   "cell_type": "code",
   "execution_count": 9,
   "metadata": {},
   "outputs": [
    {
     "output_type": "execute_result",
     "data": {
      "text/plain": "      production_budget  title_year  aspect_ratio  duration.1  \\\n1724         20000000.0      2004.0          1.85        99.0   \n2027         14000000.0      1998.0          2.35        99.0   \n1843         18000000.0      2008.0          2.35        98.0   \n470          72000000.0      2001.0          2.35       116.0   \n1225         31000000.0      2012.0          2.35       138.0   \n\n      cast_total_facebook_likes      budget  imdb_score  opening_gross  \\\n1724                     1189.0  40000000.0         4.8      6160886.0   \n2027                     3500.0  14000000.0         5.5     10515444.0   \n1843                     2215.0  18000000.0         5.1       300000.0   \n470                     14780.0  72000000.0         4.5     12174504.0   \n1225                    20952.0  31000000.0         7.3     24900566.0   \n\n      screens  \n1724   2445.0  \n2027   2257.0  \n1843    482.0  \n470    2905.0  \n1225   1884.0  ",
      "text/html": "<div>\n<style scoped>\n    .dataframe tbody tr th:only-of-type {\n        vertical-align: middle;\n    }\n\n    .dataframe tbody tr th {\n        vertical-align: top;\n    }\n\n    .dataframe thead th {\n        text-align: right;\n    }\n</style>\n<table border=\"1\" class=\"dataframe\">\n  <thead>\n    <tr style=\"text-align: right;\">\n      <th></th>\n      <th>production_budget</th>\n      <th>title_year</th>\n      <th>aspect_ratio</th>\n      <th>duration.1</th>\n      <th>cast_total_facebook_likes</th>\n      <th>budget</th>\n      <th>imdb_score</th>\n      <th>opening_gross</th>\n      <th>screens</th>\n    </tr>\n  </thead>\n  <tbody>\n    <tr>\n      <th>1724</th>\n      <td>20000000.0</td>\n      <td>2004.0</td>\n      <td>1.85</td>\n      <td>99.0</td>\n      <td>1189.0</td>\n      <td>40000000.0</td>\n      <td>4.8</td>\n      <td>6160886.0</td>\n      <td>2445.0</td>\n    </tr>\n    <tr>\n      <th>2027</th>\n      <td>14000000.0</td>\n      <td>1998.0</td>\n      <td>2.35</td>\n      <td>99.0</td>\n      <td>3500.0</td>\n      <td>14000000.0</td>\n      <td>5.5</td>\n      <td>10515444.0</td>\n      <td>2257.0</td>\n    </tr>\n    <tr>\n      <th>1843</th>\n      <td>18000000.0</td>\n      <td>2008.0</td>\n      <td>2.35</td>\n      <td>98.0</td>\n      <td>2215.0</td>\n      <td>18000000.0</td>\n      <td>5.1</td>\n      <td>300000.0</td>\n      <td>482.0</td>\n    </tr>\n    <tr>\n      <th>470</th>\n      <td>72000000.0</td>\n      <td>2001.0</td>\n      <td>2.35</td>\n      <td>116.0</td>\n      <td>14780.0</td>\n      <td>72000000.0</td>\n      <td>4.5</td>\n      <td>12174504.0</td>\n      <td>2905.0</td>\n    </tr>\n    <tr>\n      <th>1225</th>\n      <td>31000000.0</td>\n      <td>2012.0</td>\n      <td>2.35</td>\n      <td>138.0</td>\n      <td>20952.0</td>\n      <td>31000000.0</td>\n      <td>7.3</td>\n      <td>24900566.0</td>\n      <td>1884.0</td>\n    </tr>\n  </tbody>\n</table>\n</div>"
     },
     "metadata": {},
     "execution_count": 9
    }
   ],
   "source": [
    "x_train.head()\n",
    ""
   ]
  },
  {
   "cell_type": "code",
   "execution_count": 13,
   "metadata": {},
   "outputs": [
    {
     "output_type": "execute_result",
     "data": {
      "text/plain": "array([0.59316596, 0.68931527, 0.55383855, 0.18147236, 0.23040894])"
     },
     "metadata": {},
     "execution_count": 13
    }
   ],
   "source": [
    "from sklearn.model_selection import cross_val_score\n",
    "from sklearn.linear_model import Lasso\n",
    "\n",
    "scores = cross_val_score(Lasso(),x,y,cv=5,scoring='r2')\n",
    "scores"
   ]
  },
  {
   "cell_type": "code",
   "execution_count": 14,
   "metadata": {},
   "outputs": [
    {
     "output_type": "execute_result",
     "data": {
      "text/plain": "0.44964021745791766"
     },
     "metadata": {},
     "execution_count": 14
    }
   ],
   "source": [
    "scores.mean()"
   ]
  },
  {
   "cell_type": "code",
   "execution_count": 15,
   "metadata": {},
   "outputs": [
    {
     "output_type": "execute_result",
     "data": {
      "text/plain": "0.7926190294963363"
     },
     "metadata": {},
     "execution_count": 15
    }
   ],
   "source": [
    "Lasso().fit(x_train,y_train).score(x_test,y_test)"
   ]
  },
  {
   "cell_type": "code",
   "execution_count": null,
   "metadata": {},
   "outputs": [],
   "source": []
  }
 ]
}